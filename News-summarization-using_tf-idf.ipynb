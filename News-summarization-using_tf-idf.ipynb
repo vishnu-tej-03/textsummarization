{
 "cells": [
  {
   "cell_type": "markdown",
   "id": "f6260b77",
   "metadata": {},
   "source": [
    "## TEXT SUMMARIZATION USING TF-IDF"
   ]
  },
  {
   "cell_type": "code",
   "execution_count": 4,
   "id": "14e69659",
   "metadata": {},
   "outputs": [],
   "source": [
    "import math\n",
    "import pandas as pd\n",
    "import numpy as np\n",
    "from nltk import sent_tokenize, word_tokenize, PorterStemmer\n",
    "from nltk.corpus import stopwords \n",
    "from nltk.stem import WordNetLemmatizer"
   ]
  },
  {
   "cell_type": "code",
   "execution_count": 5,
   "id": "576ee51d",
   "metadata": {},
   "outputs": [],
   "source": [
    "import os\n",
    "dir='C:\\\\Users\\\\vishnu\\\\Desktop\\\\nlp_project\\\\archive\\\\News_Articles'\n",
    "categories=['business','entertainment','politics','sport','tech']\n",
    "for category in categories:\n",
    "    path1=os.path.join(dir,category)\n",
    "    label=categories.index(category)\n",
    "    for fol in os.listdir(path1):\n",
    "        path2=os.path.join(path1,fol)\n",
    "        f=open(path2,'r')\n",
    "        text=f.read()\n",
    "        break"
   ]
  },
  {
   "cell_type": "markdown",
   "id": "2adeed19",
   "metadata": {},
   "source": [
    "#### Tokenize the sentences"
   ]
  },
  {
   "cell_type": "code",
   "execution_count": 6,
   "id": "bad371bc",
   "metadata": {},
   "outputs": [
    {
     "name": "stdout",
     "output_type": "stream",
     "text": [
      "[\"Ink helps drive democracy in Asia\\n\\nThe Kyrgyz Republic, a small, mountainous state of the former Soviet republic, is using invisible ink and ultraviolet readers in the country's elections as part of a drive to prevent multiple voting.\", 'This new technology is causing both worries and guarded optimism among different sectors of the population.', 'In an effort to live up to its reputation in the 1990s as \"an island of democracy\", the Kyrgyz President, Askar Akaev, pushed through the law requiring the use of ink during the upcoming Parliamentary and Presidential elections.', 'The US government agreed to fund all expenses associated with this decision.', 'The Kyrgyz Republic is seen by many experts as backsliding from the high point it reached in the mid-1990s with a hastily pushed through referendum in 2003, reducing the legislative branch to one chamber with 75 deputies.', 'The use of ink is only one part of a general effort to show commitment towards more open elections - the German Embassy, the Soros Foundation and the Kyrgyz government have all contributed to purchase transparent ballot boxes.', 'The actual technology behind the ink is not that complicated.', \"The ink is sprayed on a person's left thumb.\", 'It dries and is not visible under normal light.', 'However, the presence of ultraviolet light (of the kind used to verify money) causes the ink to glow with a neon yellow light.', \"At the entrance to each polling station, one election official will scan voter's fingers with UV lamp before allowing them to enter, and every voter will have his/her left thumb sprayed with ink before receiving the ballot.\", 'If the ink shows under the UV light the voter will not be allowed to enter the polling station.', 'Likewise, any voter who refuses to be inked will not receive the ballot.', 'These elections are assuming even greater significance because of two large factors - the upcoming parliamentary elections are a prelude to a potentially regime changing presidential election in the Autumn as well as the echo of recent elections in other former Soviet Republics, notably Ukraine and Georgia.', 'The use of ink has been controversial - especially among groups perceived to be pro-government.', 'Widely circulated articles compared the use of ink to the rural practice of marking sheep - a still common metaphor in this primarily agricultural society.', 'The author of one such article began a petition drive against the use of the ink.', 'The greatest part of the opposition to ink has often been sheer ignorance.', 'Local newspapers have carried stories that the ink is harmful, radioactive or even that the ultraviolet readers may cause health problems.', 'Others, such as the aggressively middle of the road, Coalition of Non-governmental Organizations, have lauded the move as an important step forward.', 'This type of ink has been used in many elections in the world, in countries as varied as Serbia, South Africa, Indonesia and Turkey.', 'The other common type of ink in elections is indelible visible ink - but as the elections in Afghanistan showed, improper use of this type of ink can cause additional problems.', 'The use of \"invisible\" ink is not without its own problems.', 'In most elections, numerous rumors have spread about it.', 'In Serbia, for example, both Christian and Islamic leaders assured their populations that its use was not contrary to religion.', 'Other rumours are associated with how to remove the ink - various soft drinks, solvents and cleaning products are put forward.', 'However, in reality, the ink is very effective at getting under the cuticle of the thumb and difficult to wash off.', 'The ink stays on the finger for at least 72 hours and for up to a week.', 'The use of ink and readers by itself is not a panacea for election ills.', 'The passage of the inking law is, nevertheless, a clear step forward towards free and fair elections.\"', \"The country's widely watched parliamentary elections are scheduled for 27 February.\", 'David Mikosz works for the IFES, an international, non-profit organisation that supports the building of democratic societies.']\n"
     ]
    }
   ],
   "source": [
    "sentences = sent_tokenize(text) # NLTK function\n",
    "total_documents = len(sentences)\n",
    "print(sentences)"
   ]
  },
  {
   "cell_type": "markdown",
   "id": "2199f562",
   "metadata": {},
   "source": [
    "#### Create the Frequency matrix of the words in each sentence."
   ]
  },
  {
   "cell_type": "code",
   "execution_count": 7,
   "id": "831fb24c",
   "metadata": {},
   "outputs": [
    {
     "name": "stdout",
     "output_type": "stream",
     "text": [
      "Ink helps drive\n"
     ]
    }
   ],
   "source": [
    "for sent in sentences:\n",
    "    print(sent[:15])\n",
    "    break"
   ]
  },
  {
   "cell_type": "code",
   "execution_count": 8,
   "id": "8b939e7a",
   "metadata": {},
   "outputs": [],
   "source": [
    "def _create_frequency_matrix(sentences):\n",
    "    frequency_matrix = {}\n",
    "    stopWords = set(stopwords.words(\"english\"))\n",
    "     \n",
    "    ps= WordNetLemmatizer()\n",
    "#     ps = PorterStemmer()\n",
    "\n",
    "    for sent in sentences:\n",
    "        freq_table = {}\n",
    "        words = word_tokenize(sent)\n",
    "        for word in words:\n",
    "            word = word.lower()\n",
    "            word = ps.lemmatize(word)\n",
    "            if word in stopWords:\n",
    "                continue\n",
    "\n",
    "            if word in freq_table:\n",
    "                freq_table[word] += 1\n",
    "            else:\n",
    "                freq_table[word] = 1\n",
    "\n",
    "        frequency_matrix[sent[:15]] = freq_table\n",
    "\n",
    "    return frequency_matrix"
   ]
  },
  {
   "cell_type": "code",
   "execution_count": 17,
   "id": "3e7b189b",
   "metadata": {},
   "outputs": [
    {
     "name": "stdout",
     "output_type": "stream",
     "text": [
      "{'Ink helps drive': {'ink': 2, 'help': 1, 'drive': 2, 'democracy': 1, 'asia': 1, 'kyrgyz': 1, 'republic': 2, ',': 3, 'small': 1, 'mountainous': 1, 'state': 1, 'former': 1, 'soviet': 1, 'using': 1, 'invisible': 1, 'ultraviolet': 1, 'reader': 1, 'country': 1, \"'s\": 1, 'election': 1, 'part': 1, 'prevent': 1, 'multiple': 1, 'voting': 1, '.': 1}, 'This new techno': {'new': 1, 'technology': 1, 'causing': 1, 'worry': 1, 'guarded': 1, 'optimism': 1, 'among': 1, 'different': 1, 'sector': 1, 'population': 1, '.': 1}, 'In an effort to': {'effort': 1, 'live': 1, 'reputation': 1, '1990s': 1, '``': 1, 'island': 1, 'democracy': 1, \"''\": 1, ',': 3, 'kyrgyz': 1, 'president': 1, 'askar': 1, 'akaev': 1, 'pushed': 1, 'law': 1, 'requiring': 1, 'use': 1, 'ink': 1, 'upcoming': 1, 'parliamentary': 1, 'presidential': 1, 'election': 1, '.': 1}, 'The US governme': {'u': 1, 'government': 1, 'agreed': 1, 'fund': 1, 'expense': 1, 'associated': 1, 'decision': 1, '.': 1}, 'The Kyrgyz Repu': {'kyrgyz': 1, 'republic': 1, 'seen': 1, 'many': 1, 'expert': 1, 'backsliding': 1, 'high': 1, 'point': 1, 'reached': 1, 'mid-1990s': 1, 'hastily': 1, 'pushed': 1, 'referendum': 1, '2003': 1, ',': 1, 'reducing': 1, 'legislative': 1, 'branch': 1, 'one': 1, 'chamber': 1, '75': 1, 'deputy': 1, '.': 1}, 'The use of ink ': {'use': 1, 'ink': 1, 'reader': 1, 'panacea': 1, 'election': 1, 'ill': 1, '.': 1}, 'The actual tech': {'actual': 1, 'technology': 1, 'behind': 1, 'ink': 1, 'complicated': 1, '.': 1}, 'The ink is spra': {'ink': 1, 'sprayed': 1, 'person': 1, \"'s\": 1, 'left': 1, 'thumb': 1, '.': 1}, 'It dries and is': {'dry': 1, 'visible': 1, 'normal': 1, 'light': 1, '.': 1}, 'However, the pr': {'however': 1, ',': 1, 'presence': 1, 'ultraviolet': 1, 'light': 2, '(': 1, 'kind': 1, 'used': 1, 'verify': 1, 'money': 1, ')': 1, 'cause': 1, 'ink': 1, 'glow': 1, 'neon': 1, 'yellow': 1, '.': 1}, 'At the entrance': {'entrance': 1, 'polling': 1, 'station': 1, ',': 2, 'one': 1, 'election': 1, 'official': 1, 'scan': 1, 'voter': 2, \"'s\": 1, 'finger': 1, 'uv': 1, 'lamp': 1, 'allowing': 1, 'enter': 1, 'every': 1, 'his/her': 1, 'left': 1, 'thumb': 1, 'sprayed': 1, 'ink': 1, 'receiving': 1, 'ballot': 1, '.': 1}, 'If the ink show': {'ink': 1, 'show': 1, 'uv': 1, 'light': 1, 'voter': 1, 'allowed': 1, 'enter': 1, 'polling': 1, 'station': 1, '.': 1}, 'Likewise, any v': {'likewise': 1, ',': 1, 'voter': 1, 'refuse': 1, 'inked': 1, 'receive': 1, 'ballot': 1, '.': 1}, 'These elections': {'election': 4, 'assuming': 1, 'even': 1, 'greater': 1, 'significance': 1, 'two': 1, 'large': 1, 'factor': 1, '-': 1, 'upcoming': 1, 'parliamentary': 1, 'prelude': 1, 'potentially': 1, 'regime': 1, 'changing': 1, 'presidential': 1, 'autumn': 1, 'well': 1, 'echo': 1, 'recent': 1, 'former': 1, 'soviet': 1, 'republic': 1, ',': 1, 'notably': 1, 'ukraine': 1, 'georgia': 1, '.': 1}, 'Widely circulat': {'widely': 1, 'circulated': 1, 'article': 1, 'compared': 1, 'use': 1, 'ink': 1, 'rural': 1, 'practice': 1, 'marking': 1, 'sheep': 1, '-': 1, 'still': 1, 'common': 1, 'metaphor': 1, 'primarily': 1, 'agricultural': 1, 'society': 1, '.': 1}, 'The author of o': {'author': 1, 'one': 1, 'article': 1, 'began': 1, 'petition': 1, 'drive': 1, 'use': 1, 'ink': 1, '.': 1}, 'The greatest pa': {'greatest': 1, 'part': 1, 'opposition': 1, 'ink': 1, 'ha': 1, 'often': 1, 'sheer': 1, 'ignorance': 1, '.': 1}, 'Local newspaper': {'local': 1, 'newspaper': 1, 'carried': 1, 'story': 1, 'ink': 1, 'harmful': 1, ',': 1, 'radioactive': 1, 'even': 1, 'ultraviolet': 1, 'reader': 1, 'may': 1, 'cause': 1, 'health': 1, 'problem': 1, '.': 1}, 'Others, such as': {'others': 1, ',': 3, 'aggressively': 1, 'middle': 1, 'road': 1, 'coalition': 1, 'non-governmental': 1, 'organization': 1, 'lauded': 1, 'move': 1, 'important': 1, 'step': 1, 'forward': 1, '.': 1}, 'This type of in': {'type': 1, 'ink': 1, 'ha': 1, 'used': 1, 'many': 1, 'election': 1, 'world': 1, ',': 3, 'country': 1, 'varied': 1, 'serbia': 1, 'south': 1, 'africa': 1, 'indonesia': 1, 'turkey': 1, '.': 1}, 'The other commo': {'common': 1, 'type': 2, 'ink': 3, 'election': 2, 'indelible': 1, 'visible': 1, '-': 1, 'afghanistan': 1, 'showed': 1, ',': 1, 'improper': 1, 'use': 1, 'cause': 1, 'additional': 1, 'problem': 1, '.': 1}, 'The use of \"inv': {'use': 1, '``': 1, 'invisible': 1, \"''\": 1, 'ink': 1, 'without': 1, 'problem': 1, '.': 1}, 'In most electio': {'election': 1, ',': 1, 'numerous': 1, 'rumor': 1, 'spread': 1, '.': 1}, 'In Serbia, for ': {'serbia': 1, ',': 2, 'example': 1, 'christian': 1, 'islamic': 1, 'leader': 1, 'assured': 1, 'population': 1, 'use': 1, 'wa': 1, 'contrary': 1, 'religion': 1, '.': 1}, 'Other rumours a': {'rumour': 1, 'associated': 1, 'remove': 1, 'ink': 1, '-': 1, 'various': 1, 'soft': 1, 'drink': 1, ',': 1, 'solvent': 1, 'cleaning': 1, 'product': 1, 'put': 1, 'forward': 1, '.': 1}, 'However, in rea': {'however': 1, ',': 2, 'reality': 1, 'ink': 1, 'effective': 1, 'getting': 1, 'cuticle': 1, 'thumb': 1, 'difficult': 1, 'wash': 1, '.': 1}, 'The ink stays o': {'ink': 1, 'stay': 1, 'finger': 1, 'least': 1, '72': 1, 'hour': 1, 'week': 1, '.': 1}, 'The passage of ': {'passage': 1, 'inking': 1, 'law': 1, ',': 2, 'nevertheless': 1, 'clear': 1, 'step': 1, 'forward': 1, 'towards': 1, 'free': 1, 'fair': 1, 'election': 1, '.': 1, \"''\": 1}, \"The country's w\": {'country': 1, \"'s\": 1, 'widely': 1, 'watched': 1, 'parliamentary': 1, 'election': 1, 'scheduled': 1, '27': 1, 'february': 1, '.': 1}, 'David Mikosz wo': {'david': 1, 'mikosz': 1, 'work': 1, 'ifes': 1, ',': 2, 'international': 1, 'non-profit': 1, 'organisation': 1, 'support': 1, 'building': 1, 'democratic': 1, 'society': 1, '.': 1}}\n"
     ]
    }
   ],
   "source": [
    "# 2 Create the Frequency matrix of the words in each sentence.\n",
    "freq_matrix = _create_frequency_matrix(sentences)\n",
    "print(freq_matrix)"
   ]
  },
  {
   "cell_type": "markdown",
   "id": "20d1a0cd",
   "metadata": {},
   "source": [
    "#### Term frequency matrix"
   ]
  },
  {
   "cell_type": "code",
   "execution_count": 10,
   "id": "967457f6",
   "metadata": {},
   "outputs": [],
   "source": [
    "def _create_tf_matrix(freq_matrix):\n",
    "    tf_matrix = {}\n",
    "\n",
    "    for sent, f_table in freq_matrix.items():\n",
    "        tf_table = {}\n",
    "\n",
    "        count_words_in_sentence = len(f_table)\n",
    "        for word, count in f_table.items():\n",
    "            tf_table[word] = count / count_words_in_sentence\n",
    "\n",
    "        tf_matrix[sent] = tf_table\n",
    "\n",
    "    return tf_matrix"
   ]
  },
  {
   "cell_type": "code",
   "execution_count": 24,
   "id": "b6cc232d",
   "metadata": {},
   "outputs": [
    {
     "name": "stdout",
     "output_type": "stream",
     "text": [
      "{'Ink helps drive': {'ink': 0.08, 'help': 0.04, 'drive': 0.08, 'democracy': 0.04, 'asia': 0.04, 'kyrgyz': 0.04, 'republic': 0.08, ',': 0.12, 'small': 0.04, 'mountainous': 0.04, 'state': 0.04, 'former': 0.04, 'soviet': 0.04, 'using': 0.04, 'invisible': 0.04, 'ultraviolet': 0.04, 'reader': 0.04, 'country': 0.04, \"'s\": 0.04, 'election': 0.04, 'part': 0.04, 'prevent': 0.04, 'multiple': 0.04, 'voting': 0.04, '.': 0.04}, 'This new techno': {'new': 0.09090909090909091, 'technology': 0.09090909090909091, 'causing': 0.09090909090909091, 'worry': 0.09090909090909091, 'guarded': 0.09090909090909091, 'optimism': 0.09090909090909091, 'among': 0.09090909090909091, 'different': 0.09090909090909091, 'sector': 0.09090909090909091, 'population': 0.09090909090909091, '.': 0.09090909090909091}, 'In an effort to': {'effort': 0.043478260869565216, 'live': 0.043478260869565216, 'reputation': 0.043478260869565216, '1990s': 0.043478260869565216, '``': 0.043478260869565216, 'island': 0.043478260869565216, 'democracy': 0.043478260869565216, \"''\": 0.043478260869565216, ',': 0.13043478260869565, 'kyrgyz': 0.043478260869565216, 'president': 0.043478260869565216, 'askar': 0.043478260869565216, 'akaev': 0.043478260869565216, 'pushed': 0.043478260869565216, 'law': 0.043478260869565216, 'requiring': 0.043478260869565216, 'use': 0.043478260869565216, 'ink': 0.043478260869565216, 'upcoming': 0.043478260869565216, 'parliamentary': 0.043478260869565216, 'presidential': 0.043478260869565216, 'election': 0.043478260869565216, '.': 0.043478260869565216}, 'The US governme': {'u': 0.125, 'government': 0.125, 'agreed': 0.125, 'fund': 0.125, 'expense': 0.125, 'associated': 0.125, 'decision': 0.125, '.': 0.125}, 'The Kyrgyz Repu': {'kyrgyz': 0.043478260869565216, 'republic': 0.043478260869565216, 'seen': 0.043478260869565216, 'many': 0.043478260869565216, 'expert': 0.043478260869565216, 'backsliding': 0.043478260869565216, 'high': 0.043478260869565216, 'point': 0.043478260869565216, 'reached': 0.043478260869565216, 'mid-1990s': 0.043478260869565216, 'hastily': 0.043478260869565216, 'pushed': 0.043478260869565216, 'referendum': 0.043478260869565216, '2003': 0.043478260869565216, ',': 0.043478260869565216, 'reducing': 0.043478260869565216, 'legislative': 0.043478260869565216, 'branch': 0.043478260869565216, 'one': 0.043478260869565216, 'chamber': 0.043478260869565216, '75': 0.043478260869565216, 'deputy': 0.043478260869565216, '.': 0.043478260869565216}, 'The use of ink ': {'use': 0.14285714285714285, 'ink': 0.14285714285714285, 'reader': 0.14285714285714285, 'panacea': 0.14285714285714285, 'election': 0.14285714285714285, 'ill': 0.14285714285714285, '.': 0.14285714285714285}, 'The actual tech': {'actual': 0.16666666666666666, 'technology': 0.16666666666666666, 'behind': 0.16666666666666666, 'ink': 0.16666666666666666, 'complicated': 0.16666666666666666, '.': 0.16666666666666666}, 'The ink is spra': {'ink': 0.14285714285714285, 'sprayed': 0.14285714285714285, 'person': 0.14285714285714285, \"'s\": 0.14285714285714285, 'left': 0.14285714285714285, 'thumb': 0.14285714285714285, '.': 0.14285714285714285}, 'It dries and is': {'dry': 0.2, 'visible': 0.2, 'normal': 0.2, 'light': 0.2, '.': 0.2}, 'However, the pr': {'however': 0.058823529411764705, ',': 0.058823529411764705, 'presence': 0.058823529411764705, 'ultraviolet': 0.058823529411764705, 'light': 0.11764705882352941, '(': 0.058823529411764705, 'kind': 0.058823529411764705, 'used': 0.058823529411764705, 'verify': 0.058823529411764705, 'money': 0.058823529411764705, ')': 0.058823529411764705, 'cause': 0.058823529411764705, 'ink': 0.058823529411764705, 'glow': 0.058823529411764705, 'neon': 0.058823529411764705, 'yellow': 0.058823529411764705, '.': 0.058823529411764705}, 'At the entrance': {'entrance': 0.041666666666666664, 'polling': 0.041666666666666664, 'station': 0.041666666666666664, ',': 0.08333333333333333, 'one': 0.041666666666666664, 'election': 0.041666666666666664, 'official': 0.041666666666666664, 'scan': 0.041666666666666664, 'voter': 0.08333333333333333, \"'s\": 0.041666666666666664, 'finger': 0.041666666666666664, 'uv': 0.041666666666666664, 'lamp': 0.041666666666666664, 'allowing': 0.041666666666666664, 'enter': 0.041666666666666664, 'every': 0.041666666666666664, 'his/her': 0.041666666666666664, 'left': 0.041666666666666664, 'thumb': 0.041666666666666664, 'sprayed': 0.041666666666666664, 'ink': 0.041666666666666664, 'receiving': 0.041666666666666664, 'ballot': 0.041666666666666664, '.': 0.041666666666666664}, 'If the ink show': {'ink': 0.1, 'show': 0.1, 'uv': 0.1, 'light': 0.1, 'voter': 0.1, 'allowed': 0.1, 'enter': 0.1, 'polling': 0.1, 'station': 0.1, '.': 0.1}, 'Likewise, any v': {'likewise': 0.125, ',': 0.125, 'voter': 0.125, 'refuse': 0.125, 'inked': 0.125, 'receive': 0.125, 'ballot': 0.125, '.': 0.125}, 'These elections': {'election': 0.14285714285714285, 'assuming': 0.03571428571428571, 'even': 0.03571428571428571, 'greater': 0.03571428571428571, 'significance': 0.03571428571428571, 'two': 0.03571428571428571, 'large': 0.03571428571428571, 'factor': 0.03571428571428571, '-': 0.03571428571428571, 'upcoming': 0.03571428571428571, 'parliamentary': 0.03571428571428571, 'prelude': 0.03571428571428571, 'potentially': 0.03571428571428571, 'regime': 0.03571428571428571, 'changing': 0.03571428571428571, 'presidential': 0.03571428571428571, 'autumn': 0.03571428571428571, 'well': 0.03571428571428571, 'echo': 0.03571428571428571, 'recent': 0.03571428571428571, 'former': 0.03571428571428571, 'soviet': 0.03571428571428571, 'republic': 0.03571428571428571, ',': 0.03571428571428571, 'notably': 0.03571428571428571, 'ukraine': 0.03571428571428571, 'georgia': 0.03571428571428571, '.': 0.03571428571428571}, 'Widely circulat': {'widely': 0.05555555555555555, 'circulated': 0.05555555555555555, 'article': 0.05555555555555555, 'compared': 0.05555555555555555, 'use': 0.05555555555555555, 'ink': 0.05555555555555555, 'rural': 0.05555555555555555, 'practice': 0.05555555555555555, 'marking': 0.05555555555555555, 'sheep': 0.05555555555555555, '-': 0.05555555555555555, 'still': 0.05555555555555555, 'common': 0.05555555555555555, 'metaphor': 0.05555555555555555, 'primarily': 0.05555555555555555, 'agricultural': 0.05555555555555555, 'society': 0.05555555555555555, '.': 0.05555555555555555}, 'The author of o': {'author': 0.1111111111111111, 'one': 0.1111111111111111, 'article': 0.1111111111111111, 'began': 0.1111111111111111, 'petition': 0.1111111111111111, 'drive': 0.1111111111111111, 'use': 0.1111111111111111, 'ink': 0.1111111111111111, '.': 0.1111111111111111}, 'The greatest pa': {'greatest': 0.1111111111111111, 'part': 0.1111111111111111, 'opposition': 0.1111111111111111, 'ink': 0.1111111111111111, 'ha': 0.1111111111111111, 'often': 0.1111111111111111, 'sheer': 0.1111111111111111, 'ignorance': 0.1111111111111111, '.': 0.1111111111111111}, 'Local newspaper': {'local': 0.0625, 'newspaper': 0.0625, 'carried': 0.0625, 'story': 0.0625, 'ink': 0.0625, 'harmful': 0.0625, ',': 0.0625, 'radioactive': 0.0625, 'even': 0.0625, 'ultraviolet': 0.0625, 'reader': 0.0625, 'may': 0.0625, 'cause': 0.0625, 'health': 0.0625, 'problem': 0.0625, '.': 0.0625}, 'Others, such as': {'others': 0.07142857142857142, ',': 0.21428571428571427, 'aggressively': 0.07142857142857142, 'middle': 0.07142857142857142, 'road': 0.07142857142857142, 'coalition': 0.07142857142857142, 'non-governmental': 0.07142857142857142, 'organization': 0.07142857142857142, 'lauded': 0.07142857142857142, 'move': 0.07142857142857142, 'important': 0.07142857142857142, 'step': 0.07142857142857142, 'forward': 0.07142857142857142, '.': 0.07142857142857142}, 'This type of in': {'type': 0.0625, 'ink': 0.0625, 'ha': 0.0625, 'used': 0.0625, 'many': 0.0625, 'election': 0.0625, 'world': 0.0625, ',': 0.1875, 'country': 0.0625, 'varied': 0.0625, 'serbia': 0.0625, 'south': 0.0625, 'africa': 0.0625, 'indonesia': 0.0625, 'turkey': 0.0625, '.': 0.0625}, 'The other commo': {'common': 0.0625, 'type': 0.125, 'ink': 0.1875, 'election': 0.125, 'indelible': 0.0625, 'visible': 0.0625, '-': 0.0625, 'afghanistan': 0.0625, 'showed': 0.0625, ',': 0.0625, 'improper': 0.0625, 'use': 0.0625, 'cause': 0.0625, 'additional': 0.0625, 'problem': 0.0625, '.': 0.0625}, 'The use of \"inv': {'use': 0.125, '``': 0.125, 'invisible': 0.125, \"''\": 0.125, 'ink': 0.125, 'without': 0.125, 'problem': 0.125, '.': 0.125}, 'In most electio': {'election': 0.16666666666666666, ',': 0.16666666666666666, 'numerous': 0.16666666666666666, 'rumor': 0.16666666666666666, 'spread': 0.16666666666666666, '.': 0.16666666666666666}, 'In Serbia, for ': {'serbia': 0.07692307692307693, ',': 0.15384615384615385, 'example': 0.07692307692307693, 'christian': 0.07692307692307693, 'islamic': 0.07692307692307693, 'leader': 0.07692307692307693, 'assured': 0.07692307692307693, 'population': 0.07692307692307693, 'use': 0.07692307692307693, 'wa': 0.07692307692307693, 'contrary': 0.07692307692307693, 'religion': 0.07692307692307693, '.': 0.07692307692307693}, 'Other rumours a': {'rumour': 0.06666666666666667, 'associated': 0.06666666666666667, 'remove': 0.06666666666666667, 'ink': 0.06666666666666667, '-': 0.06666666666666667, 'various': 0.06666666666666667, 'soft': 0.06666666666666667, 'drink': 0.06666666666666667, ',': 0.06666666666666667, 'solvent': 0.06666666666666667, 'cleaning': 0.06666666666666667, 'product': 0.06666666666666667, 'put': 0.06666666666666667, 'forward': 0.06666666666666667, '.': 0.06666666666666667}, 'However, in rea': {'however': 0.09090909090909091, ',': 0.18181818181818182, 'reality': 0.09090909090909091, 'ink': 0.09090909090909091, 'effective': 0.09090909090909091, 'getting': 0.09090909090909091, 'cuticle': 0.09090909090909091, 'thumb': 0.09090909090909091, 'difficult': 0.09090909090909091, 'wash': 0.09090909090909091, '.': 0.09090909090909091}, 'The ink stays o': {'ink': 0.125, 'stay': 0.125, 'finger': 0.125, 'least': 0.125, '72': 0.125, 'hour': 0.125, 'week': 0.125, '.': 0.125}, 'The passage of ': {'passage': 0.07142857142857142, 'inking': 0.07142857142857142, 'law': 0.07142857142857142, ',': 0.14285714285714285, 'nevertheless': 0.07142857142857142, 'clear': 0.07142857142857142, 'step': 0.07142857142857142, 'forward': 0.07142857142857142, 'towards': 0.07142857142857142, 'free': 0.07142857142857142, 'fair': 0.07142857142857142, 'election': 0.07142857142857142, '.': 0.07142857142857142, \"''\": 0.07142857142857142}, \"The country's w\": {'country': 0.1, \"'s\": 0.1, 'widely': 0.1, 'watched': 0.1, 'parliamentary': 0.1, 'election': 0.1, 'scheduled': 0.1, '27': 0.1, 'february': 0.1, '.': 0.1}, 'David Mikosz wo': {'david': 0.07692307692307693, 'mikosz': 0.07692307692307693, 'work': 0.07692307692307693, 'ifes': 0.07692307692307693, ',': 0.15384615384615385, 'international': 0.07692307692307693, 'non-profit': 0.07692307692307693, 'organisation': 0.07692307692307693, 'support': 0.07692307692307693, 'building': 0.07692307692307693, 'democratic': 0.07692307692307693, 'society': 0.07692307692307693, '.': 0.07692307692307693}}\n"
     ]
    }
   ],
   "source": [
    "'''Term frequency (TF) is how often a word appears in a document, divided by how many words are there in a document.'''\n",
    "# 3 Calculate TermFrequency and generate a matrix\n",
    "tf_matrix = _create_tf_matrix(freq_matrix)\n",
    "print(tf_matrix)"
   ]
  },
  {
   "cell_type": "markdown",
   "id": "a7f82879",
   "metadata": {},
   "source": [
    "#### Number of Times the Word Appeared in all the Sentences"
   ]
  },
  {
   "cell_type": "code",
   "execution_count": 11,
   "id": "b09f47d6",
   "metadata": {},
   "outputs": [],
   "source": [
    "def _create_documents_per_words(freq_matrix):\n",
    "    word_per_doc_table = {}\n",
    "\n",
    "    for sent, f_table in freq_matrix.items():\n",
    "        for word, count in f_table.items():\n",
    "            if word in word_per_doc_table:\n",
    "                word_per_doc_table[word] += 1\n",
    "            else:\n",
    "                word_per_doc_table[word] = 1\n",
    "\n",
    "    return word_per_doc_table"
   ]
  },
  {
   "cell_type": "code",
   "execution_count": 25,
   "id": "b3b001c7",
   "metadata": {},
   "outputs": [
    {
     "name": "stdout",
     "output_type": "stream",
     "text": [
      "{'ink': 18, 'help': 1, 'drive': 2, 'democracy': 2, 'asia': 1, 'kyrgyz': 3, 'republic': 3, ',': 17, 'small': 1, 'mountainous': 1, 'state': 1, 'former': 2, 'soviet': 2, 'using': 1, 'invisible': 2, 'ultraviolet': 3, 'reader': 3, 'country': 3, \"'s\": 4, 'election': 10, 'part': 2, 'prevent': 1, 'multiple': 1, 'voting': 1, '.': 30, 'new': 1, 'technology': 2, 'causing': 1, 'worry': 1, 'guarded': 1, 'optimism': 1, 'among': 1, 'different': 1, 'sector': 1, 'population': 2, 'effort': 1, 'live': 1, 'reputation': 1, '1990s': 1, '``': 2, 'island': 1, \"''\": 3, 'president': 1, 'askar': 1, 'akaev': 1, 'pushed': 2, 'law': 2, 'requiring': 1, 'use': 7, 'upcoming': 2, 'parliamentary': 3, 'presidential': 2, 'u': 1, 'government': 1, 'agreed': 1, 'fund': 1, 'expense': 1, 'associated': 2, 'decision': 1, 'seen': 1, 'many': 2, 'expert': 1, 'backsliding': 1, 'high': 1, 'point': 1, 'reached': 1, 'mid-1990s': 1, 'hastily': 1, 'referendum': 1, '2003': 1, 'reducing': 1, 'legislative': 1, 'branch': 1, 'one': 3, 'chamber': 1, '75': 1, 'deputy': 1, 'panacea': 1, 'ill': 1, 'actual': 1, 'behind': 1, 'complicated': 1, 'sprayed': 2, 'person': 1, 'left': 2, 'thumb': 3, 'dry': 1, 'visible': 2, 'normal': 1, 'light': 3, 'however': 2, 'presence': 1, '(': 1, 'kind': 1, 'used': 2, 'verify': 1, 'money': 1, ')': 1, 'cause': 3, 'glow': 1, 'neon': 1, 'yellow': 1, 'entrance': 1, 'polling': 2, 'station': 2, 'official': 1, 'scan': 1, 'voter': 3, 'finger': 2, 'uv': 2, 'lamp': 1, 'allowing': 1, 'enter': 2, 'every': 1, 'his/her': 1, 'receiving': 1, 'ballot': 2, 'show': 1, 'allowed': 1, 'likewise': 1, 'refuse': 1, 'inked': 1, 'receive': 1, 'assuming': 1, 'even': 2, 'greater': 1, 'significance': 1, 'two': 1, 'large': 1, 'factor': 1, '-': 4, 'prelude': 1, 'potentially': 1, 'regime': 1, 'changing': 1, 'autumn': 1, 'well': 1, 'echo': 1, 'recent': 1, 'notably': 1, 'ukraine': 1, 'georgia': 1, 'widely': 2, 'circulated': 1, 'article': 2, 'compared': 1, 'rural': 1, 'practice': 1, 'marking': 1, 'sheep': 1, 'still': 1, 'common': 2, 'metaphor': 1, 'primarily': 1, 'agricultural': 1, 'society': 2, 'author': 1, 'began': 1, 'petition': 1, 'greatest': 1, 'opposition': 1, 'ha': 2, 'often': 1, 'sheer': 1, 'ignorance': 1, 'local': 1, 'newspaper': 1, 'carried': 1, 'story': 1, 'harmful': 1, 'radioactive': 1, 'may': 1, 'health': 1, 'problem': 3, 'others': 1, 'aggressively': 1, 'middle': 1, 'road': 1, 'coalition': 1, 'non-governmental': 1, 'organization': 1, 'lauded': 1, 'move': 1, 'important': 1, 'step': 2, 'forward': 3, 'type': 2, 'world': 1, 'varied': 1, 'serbia': 2, 'south': 1, 'africa': 1, 'indonesia': 1, 'turkey': 1, 'indelible': 1, 'afghanistan': 1, 'showed': 1, 'improper': 1, 'additional': 1, 'without': 1, 'numerous': 1, 'rumor': 1, 'spread': 1, 'example': 1, 'christian': 1, 'islamic': 1, 'leader': 1, 'assured': 1, 'wa': 1, 'contrary': 1, 'religion': 1, 'rumour': 1, 'remove': 1, 'various': 1, 'soft': 1, 'drink': 1, 'solvent': 1, 'cleaning': 1, 'product': 1, 'put': 1, 'reality': 1, 'effective': 1, 'getting': 1, 'cuticle': 1, 'difficult': 1, 'wash': 1, 'stay': 1, 'least': 1, '72': 1, 'hour': 1, 'week': 1, 'passage': 1, 'inking': 1, 'nevertheless': 1, 'clear': 1, 'towards': 1, 'free': 1, 'fair': 1, 'watched': 1, 'scheduled': 1, '27': 1, 'february': 1, 'david': 1, 'mikosz': 1, 'work': 1, 'ifes': 1, 'international': 1, 'non-profit': 1, 'organisation': 1, 'support': 1, 'building': 1, 'democratic': 1}\n"
     ]
    }
   ],
   "source": [
    "# 4 creating table for documents per words\n",
    "count_doc_per_words = _create_documents_per_words(freq_matrix)\n",
    "print(count_doc_per_words)"
   ]
  },
  {
   "cell_type": "markdown",
   "id": "e4217af1",
   "metadata": {},
   "source": [
    "#### Inverse document frequency (IDF) is how unique or rare a word is."
   ]
  },
  {
   "cell_type": "code",
   "execution_count": 12,
   "id": "32f8dbb1",
   "metadata": {},
   "outputs": [],
   "source": [
    "def _create_idf_matrix(freq_matrix, count_doc_per_words, total_documents):\n",
    "    idf_matrix = {}\n",
    "\n",
    "    for sent, f_table in freq_matrix.items():\n",
    "        idf_table = {}\n",
    "\n",
    "        for word in f_table.keys():\n",
    "            idf_table[word] = math.log10(total_documents / float(count_doc_per_words[word]))\n",
    "\n",
    "        idf_matrix[sent] = idf_table\n",
    "\n",
    "    return idf_matrix"
   ]
  },
  {
   "cell_type": "code",
   "execution_count": 26,
   "id": "71e272b4",
   "metadata": {},
   "outputs": [
    {
     "name": "stdout",
     "output_type": "stream",
     "text": [
      "{'Ink helps drive': {'ink': 0.2498774732165999, 'help': 1.505149978319906, 'drive': 1.2041199826559248, 'democracy': 1.2041199826559248, 'asia': 1.505149978319906, 'kyrgyz': 1.0280287236002434, 'republic': 1.0280287236002434, ',': 0.27470105694163205, 'small': 1.505149978319906, 'mountainous': 1.505149978319906, 'state': 1.505149978319906, 'former': 1.2041199826559248, 'soviet': 1.2041199826559248, 'using': 1.505149978319906, 'invisible': 1.2041199826559248, 'ultraviolet': 1.0280287236002434, 'reader': 1.0280287236002434, 'country': 1.0280287236002434, \"'s\": 0.9030899869919435, 'election': 0.505149978319906, 'part': 1.2041199826559248, 'prevent': 1.505149978319906, 'multiple': 1.505149978319906, 'voting': 1.505149978319906, '.': 0.028028723600243534}, 'This new techno': {'new': 1.505149978319906, 'technology': 1.2041199826559248, 'causing': 1.505149978319906, 'worry': 1.505149978319906, 'guarded': 1.505149978319906, 'optimism': 1.505149978319906, 'among': 1.505149978319906, 'different': 1.505149978319906, 'sector': 1.505149978319906, 'population': 1.2041199826559248, '.': 0.028028723600243534}, 'In an effort to': {'effort': 1.505149978319906, 'live': 1.505149978319906, 'reputation': 1.505149978319906, '1990s': 1.505149978319906, '``': 1.2041199826559248, 'island': 1.505149978319906, 'democracy': 1.2041199826559248, \"''\": 1.0280287236002434, ',': 0.27470105694163205, 'kyrgyz': 1.0280287236002434, 'president': 1.505149978319906, 'askar': 1.505149978319906, 'akaev': 1.505149978319906, 'pushed': 1.2041199826559248, 'law': 1.2041199826559248, 'requiring': 1.505149978319906, 'use': 0.6600519383056491, 'ink': 0.2498774732165999, 'upcoming': 1.2041199826559248, 'parliamentary': 1.0280287236002434, 'presidential': 1.2041199826559248, 'election': 0.505149978319906, '.': 0.028028723600243534}, 'The US governme': {'u': 1.505149978319906, 'government': 1.505149978319906, 'agreed': 1.505149978319906, 'fund': 1.505149978319906, 'expense': 1.505149978319906, 'associated': 1.2041199826559248, 'decision': 1.505149978319906, '.': 0.028028723600243534}, 'The Kyrgyz Repu': {'kyrgyz': 1.0280287236002434, 'republic': 1.0280287236002434, 'seen': 1.505149978319906, 'many': 1.2041199826559248, 'expert': 1.505149978319906, 'backsliding': 1.505149978319906, 'high': 1.505149978319906, 'point': 1.505149978319906, 'reached': 1.505149978319906, 'mid-1990s': 1.505149978319906, 'hastily': 1.505149978319906, 'pushed': 1.2041199826559248, 'referendum': 1.505149978319906, '2003': 1.505149978319906, ',': 0.27470105694163205, 'reducing': 1.505149978319906, 'legislative': 1.505149978319906, 'branch': 1.505149978319906, 'one': 1.0280287236002434, 'chamber': 1.505149978319906, '75': 1.505149978319906, 'deputy': 1.505149978319906, '.': 0.028028723600243534}, 'The use of ink ': {'use': 0.6600519383056491, 'ink': 0.2498774732165999, 'reader': 1.0280287236002434, 'panacea': 1.505149978319906, 'election': 0.505149978319906, 'ill': 1.505149978319906, '.': 0.028028723600243534}, 'The actual tech': {'actual': 1.505149978319906, 'technology': 1.2041199826559248, 'behind': 1.505149978319906, 'ink': 0.2498774732165999, 'complicated': 1.505149978319906, '.': 0.028028723600243534}, 'The ink is spra': {'ink': 0.2498774732165999, 'sprayed': 1.2041199826559248, 'person': 1.505149978319906, \"'s\": 0.9030899869919435, 'left': 1.2041199826559248, 'thumb': 1.0280287236002434, '.': 0.028028723600243534}, 'It dries and is': {'dry': 1.505149978319906, 'visible': 1.2041199826559248, 'normal': 1.505149978319906, 'light': 1.0280287236002434, '.': 0.028028723600243534}, 'However, the pr': {'however': 1.2041199826559248, ',': 0.27470105694163205, 'presence': 1.505149978319906, 'ultraviolet': 1.0280287236002434, 'light': 1.0280287236002434, '(': 1.505149978319906, 'kind': 1.505149978319906, 'used': 1.2041199826559248, 'verify': 1.505149978319906, 'money': 1.505149978319906, ')': 1.505149978319906, 'cause': 1.0280287236002434, 'ink': 0.2498774732165999, 'glow': 1.505149978319906, 'neon': 1.505149978319906, 'yellow': 1.505149978319906, '.': 0.028028723600243534}, 'At the entrance': {'entrance': 1.505149978319906, 'polling': 1.2041199826559248, 'station': 1.2041199826559248, ',': 0.27470105694163205, 'one': 1.0280287236002434, 'election': 0.505149978319906, 'official': 1.505149978319906, 'scan': 1.505149978319906, 'voter': 1.0280287236002434, \"'s\": 0.9030899869919435, 'finger': 1.2041199826559248, 'uv': 1.2041199826559248, 'lamp': 1.505149978319906, 'allowing': 1.505149978319906, 'enter': 1.2041199826559248, 'every': 1.505149978319906, 'his/her': 1.505149978319906, 'left': 1.2041199826559248, 'thumb': 1.0280287236002434, 'sprayed': 1.2041199826559248, 'ink': 0.2498774732165999, 'receiving': 1.505149978319906, 'ballot': 1.2041199826559248, '.': 0.028028723600243534}, 'If the ink show': {'ink': 0.2498774732165999, 'show': 1.505149978319906, 'uv': 1.2041199826559248, 'light': 1.0280287236002434, 'voter': 1.0280287236002434, 'allowed': 1.505149978319906, 'enter': 1.2041199826559248, 'polling': 1.2041199826559248, 'station': 1.2041199826559248, '.': 0.028028723600243534}, 'Likewise, any v': {'likewise': 1.505149978319906, ',': 0.27470105694163205, 'voter': 1.0280287236002434, 'refuse': 1.505149978319906, 'inked': 1.505149978319906, 'receive': 1.505149978319906, 'ballot': 1.2041199826559248, '.': 0.028028723600243534}, 'These elections': {'election': 0.505149978319906, 'assuming': 1.505149978319906, 'even': 1.2041199826559248, 'greater': 1.505149978319906, 'significance': 1.505149978319906, 'two': 1.505149978319906, 'large': 1.505149978319906, 'factor': 1.505149978319906, '-': 0.9030899869919435, 'upcoming': 1.2041199826559248, 'parliamentary': 1.0280287236002434, 'prelude': 1.505149978319906, 'potentially': 1.505149978319906, 'regime': 1.505149978319906, 'changing': 1.505149978319906, 'presidential': 1.2041199826559248, 'autumn': 1.505149978319906, 'well': 1.505149978319906, 'echo': 1.505149978319906, 'recent': 1.505149978319906, 'former': 1.2041199826559248, 'soviet': 1.2041199826559248, 'republic': 1.0280287236002434, ',': 0.27470105694163205, 'notably': 1.505149978319906, 'ukraine': 1.505149978319906, 'georgia': 1.505149978319906, '.': 0.028028723600243534}, 'Widely circulat': {'widely': 1.2041199826559248, 'circulated': 1.505149978319906, 'article': 1.2041199826559248, 'compared': 1.505149978319906, 'use': 0.6600519383056491, 'ink': 0.2498774732165999, 'rural': 1.505149978319906, 'practice': 1.505149978319906, 'marking': 1.505149978319906, 'sheep': 1.505149978319906, '-': 0.9030899869919435, 'still': 1.505149978319906, 'common': 1.2041199826559248, 'metaphor': 1.505149978319906, 'primarily': 1.505149978319906, 'agricultural': 1.505149978319906, 'society': 1.2041199826559248, '.': 0.028028723600243534}, 'The author of o': {'author': 1.505149978319906, 'one': 1.0280287236002434, 'article': 1.2041199826559248, 'began': 1.505149978319906, 'petition': 1.505149978319906, 'drive': 1.2041199826559248, 'use': 0.6600519383056491, 'ink': 0.2498774732165999, '.': 0.028028723600243534}, 'The greatest pa': {'greatest': 1.505149978319906, 'part': 1.2041199826559248, 'opposition': 1.505149978319906, 'ink': 0.2498774732165999, 'ha': 1.2041199826559248, 'often': 1.505149978319906, 'sheer': 1.505149978319906, 'ignorance': 1.505149978319906, '.': 0.028028723600243534}, 'Local newspaper': {'local': 1.505149978319906, 'newspaper': 1.505149978319906, 'carried': 1.505149978319906, 'story': 1.505149978319906, 'ink': 0.2498774732165999, 'harmful': 1.505149978319906, ',': 0.27470105694163205, 'radioactive': 1.505149978319906, 'even': 1.2041199826559248, 'ultraviolet': 1.0280287236002434, 'reader': 1.0280287236002434, 'may': 1.505149978319906, 'cause': 1.0280287236002434, 'health': 1.505149978319906, 'problem': 1.0280287236002434, '.': 0.028028723600243534}, 'Others, such as': {'others': 1.505149978319906, ',': 0.27470105694163205, 'aggressively': 1.505149978319906, 'middle': 1.505149978319906, 'road': 1.505149978319906, 'coalition': 1.505149978319906, 'non-governmental': 1.505149978319906, 'organization': 1.505149978319906, 'lauded': 1.505149978319906, 'move': 1.505149978319906, 'important': 1.505149978319906, 'step': 1.2041199826559248, 'forward': 1.0280287236002434, '.': 0.028028723600243534}, 'This type of in': {'type': 1.2041199826559248, 'ink': 0.2498774732165999, 'ha': 1.2041199826559248, 'used': 1.2041199826559248, 'many': 1.2041199826559248, 'election': 0.505149978319906, 'world': 1.505149978319906, ',': 0.27470105694163205, 'country': 1.0280287236002434, 'varied': 1.505149978319906, 'serbia': 1.2041199826559248, 'south': 1.505149978319906, 'africa': 1.505149978319906, 'indonesia': 1.505149978319906, 'turkey': 1.505149978319906, '.': 0.028028723600243534}, 'The other commo': {'common': 1.2041199826559248, 'type': 1.2041199826559248, 'ink': 0.2498774732165999, 'election': 0.505149978319906, 'indelible': 1.505149978319906, 'visible': 1.2041199826559248, '-': 0.9030899869919435, 'afghanistan': 1.505149978319906, 'showed': 1.505149978319906, ',': 0.27470105694163205, 'improper': 1.505149978319906, 'use': 0.6600519383056491, 'cause': 1.0280287236002434, 'additional': 1.505149978319906, 'problem': 1.0280287236002434, '.': 0.028028723600243534}, 'The use of \"inv': {'use': 0.6600519383056491, '``': 1.2041199826559248, 'invisible': 1.2041199826559248, \"''\": 1.0280287236002434, 'ink': 0.2498774732165999, 'without': 1.505149978319906, 'problem': 1.0280287236002434, '.': 0.028028723600243534}, 'In most electio': {'election': 0.505149978319906, ',': 0.27470105694163205, 'numerous': 1.505149978319906, 'rumor': 1.505149978319906, 'spread': 1.505149978319906, '.': 0.028028723600243534}, 'In Serbia, for ': {'serbia': 1.2041199826559248, ',': 0.27470105694163205, 'example': 1.505149978319906, 'christian': 1.505149978319906, 'islamic': 1.505149978319906, 'leader': 1.505149978319906, 'assured': 1.505149978319906, 'population': 1.2041199826559248, 'use': 0.6600519383056491, 'wa': 1.505149978319906, 'contrary': 1.505149978319906, 'religion': 1.505149978319906, '.': 0.028028723600243534}, 'Other rumours a': {'rumour': 1.505149978319906, 'associated': 1.2041199826559248, 'remove': 1.505149978319906, 'ink': 0.2498774732165999, '-': 0.9030899869919435, 'various': 1.505149978319906, 'soft': 1.505149978319906, 'drink': 1.505149978319906, ',': 0.27470105694163205, 'solvent': 1.505149978319906, 'cleaning': 1.505149978319906, 'product': 1.505149978319906, 'put': 1.505149978319906, 'forward': 1.0280287236002434, '.': 0.028028723600243534}, 'However, in rea': {'however': 1.2041199826559248, ',': 0.27470105694163205, 'reality': 1.505149978319906, 'ink': 0.2498774732165999, 'effective': 1.505149978319906, 'getting': 1.505149978319906, 'cuticle': 1.505149978319906, 'thumb': 1.0280287236002434, 'difficult': 1.505149978319906, 'wash': 1.505149978319906, '.': 0.028028723600243534}, 'The ink stays o': {'ink': 0.2498774732165999, 'stay': 1.505149978319906, 'finger': 1.2041199826559248, 'least': 1.505149978319906, '72': 1.505149978319906, 'hour': 1.505149978319906, 'week': 1.505149978319906, '.': 0.028028723600243534}, 'The passage of ': {'passage': 1.505149978319906, 'inking': 1.505149978319906, 'law': 1.2041199826559248, ',': 0.27470105694163205, 'nevertheless': 1.505149978319906, 'clear': 1.505149978319906, 'step': 1.2041199826559248, 'forward': 1.0280287236002434, 'towards': 1.505149978319906, 'free': 1.505149978319906, 'fair': 1.505149978319906, 'election': 0.505149978319906, '.': 0.028028723600243534, \"''\": 1.0280287236002434}, \"The country's w\": {'country': 1.0280287236002434, \"'s\": 0.9030899869919435, 'widely': 1.2041199826559248, 'watched': 1.505149978319906, 'parliamentary': 1.0280287236002434, 'election': 0.505149978319906, 'scheduled': 1.505149978319906, '27': 1.505149978319906, 'february': 1.505149978319906, '.': 0.028028723600243534}, 'David Mikosz wo': {'david': 1.505149978319906, 'mikosz': 1.505149978319906, 'work': 1.505149978319906, 'ifes': 1.505149978319906, ',': 0.27470105694163205, 'international': 1.505149978319906, 'non-profit': 1.505149978319906, 'organisation': 1.505149978319906, 'support': 1.505149978319906, 'building': 1.505149978319906, 'democratic': 1.505149978319906, 'society': 1.2041199826559248, '.': 0.028028723600243534}}\n"
     ]
    }
   ],
   "source": [
    "# 5 Calculate IDF and generate a matrix\n",
    "idf_matrix = _create_idf_matrix(freq_matrix, count_doc_per_words, total_documents)\n",
    "print(idf_matrix)"
   ]
  },
  {
   "cell_type": "markdown",
   "id": "513992aa",
   "metadata": {},
   "source": [
    "#### calculating tf-idf of the words in sentence"
   ]
  },
  {
   "cell_type": "code",
   "execution_count": 13,
   "id": "7a63c948",
   "metadata": {},
   "outputs": [],
   "source": [
    "def _create_tf_idf_matrix(tf_matrix, idf_matrix):\n",
    "    tf_idf_matrix = {}\n",
    "\n",
    "    for (sent1, f_table1), (sent2, f_table2) in zip(tf_matrix.items(), idf_matrix.items()):\n",
    "\n",
    "        tf_idf_table = {}\n",
    "\n",
    "        for (word1, value1), (word2, value2) in zip(f_table1.items(),\n",
    "                                                    f_table2.items()):  # here, keys are the same in both the table\n",
    "            tf_idf_table[word1] = float(value1 * value2)\n",
    "\n",
    "        tf_idf_matrix[sent1] = tf_idf_table\n",
    "\n",
    "    return tf_idf_matrix"
   ]
  },
  {
   "cell_type": "code",
   "execution_count": 27,
   "id": "357acdce",
   "metadata": {},
   "outputs": [
    {
     "name": "stdout",
     "output_type": "stream",
     "text": [
      "{'Ink helps drive': {'ink': 0.01999019785732799, 'help': 0.06020599913279624, 'drive': 0.09632959861247399, 'democracy': 0.048164799306236995, 'asia': 0.06020599913279624, 'kyrgyz': 0.04112114894400974, 'republic': 0.08224229788801948, ',': 0.03296412683299584, 'small': 0.06020599913279624, 'mountainous': 0.06020599913279624, 'state': 0.06020599913279624, 'former': 0.048164799306236995, 'soviet': 0.048164799306236995, 'using': 0.06020599913279624, 'invisible': 0.048164799306236995, 'ultraviolet': 0.04112114894400974, 'reader': 0.04112114894400974, 'country': 0.04112114894400974, \"'s\": 0.03612359947967774, 'election': 0.02020599913279624, 'part': 0.048164799306236995, 'prevent': 0.06020599913279624, 'multiple': 0.06020599913279624, 'voting': 0.06020599913279624, '.': 0.0011211489440097415}, 'This new techno': {'new': 0.13683181621090054, 'technology': 0.10946545296872044, 'causing': 0.13683181621090054, 'worry': 0.13683181621090054, 'guarded': 0.13683181621090054, 'optimism': 0.13683181621090054, 'among': 0.13683181621090054, 'different': 0.13683181621090054, 'sector': 0.13683181621090054, 'population': 0.10946545296872044, '.': 0.002548065781840321}, 'In an effort to': {'effort': 0.0654413034052133, 'live': 0.0654413034052133, 'reputation': 0.0654413034052133, '1990s': 0.0654413034052133, '``': 0.05235304272417064, 'island': 0.0654413034052133, 'democracy': 0.05235304272417064, \"''\": 0.04469690102609754, ',': 0.0358305726445607, 'kyrgyz': 0.04469690102609754, 'president': 0.0654413034052133, 'askar': 0.0654413034052133, 'akaev': 0.0654413034052133, 'pushed': 0.05235304272417064, 'law': 0.05235304272417064, 'requiring': 0.0654413034052133, 'use': 0.02869791036111518, 'ink': 0.010864237965939126, 'upcoming': 0.05235304272417064, 'parliamentary': 0.04469690102609754, 'presidential': 0.05235304272417064, 'election': 0.021963042535648087, '.': 0.0012186401565323275}, 'The US governme': {'u': 0.18814374728998826, 'government': 0.18814374728998826, 'agreed': 0.18814374728998826, 'fund': 0.18814374728998826, 'expense': 0.18814374728998826, 'associated': 0.1505149978319906, 'decision': 0.18814374728998826, '.': 0.0035035904500304417}, 'The Kyrgyz Repu': {'kyrgyz': 0.04469690102609754, 'republic': 0.04469690102609754, 'seen': 0.0654413034052133, 'many': 0.05235304272417064, 'expert': 0.0654413034052133, 'backsliding': 0.0654413034052133, 'high': 0.0654413034052133, 'point': 0.0654413034052133, 'reached': 0.0654413034052133, 'mid-1990s': 0.0654413034052133, 'hastily': 0.0654413034052133, 'pushed': 0.05235304272417064, 'referendum': 0.0654413034052133, '2003': 0.0654413034052133, ',': 0.011943524214853568, 'reducing': 0.0654413034052133, 'legislative': 0.0654413034052133, 'branch': 0.0654413034052133, 'one': 0.04469690102609754, 'chamber': 0.0654413034052133, '75': 0.0654413034052133, 'deputy': 0.0654413034052133, '.': 0.0012186401565323275}, 'The use of ink ': {'use': 0.09429313404366416, 'ink': 0.0356967818880857, 'reader': 0.1468612462286062, 'panacea': 0.21502142547427228, 'election': 0.07216428261712943, 'ill': 0.21502142547427228, '.': 0.004004103371463362}, 'The actual tech': {'actual': 0.25085832971998434, 'technology': 0.20068666377598746, 'behind': 0.25085832971998434, 'ink': 0.04164624553609998, 'complicated': 0.25085832971998434, '.': 0.004671453933373922}, 'The ink is spra': {'ink': 0.0356967818880857, 'sprayed': 0.17201714037941782, 'person': 0.21502142547427228, \"'s\": 0.12901285528456335, 'left': 0.17201714037941782, 'thumb': 0.1468612462286062, '.': 0.004004103371463362}, 'It dries and is': {'dry': 0.30102999566398125, 'visible': 0.24082399653118497, 'normal': 0.30102999566398125, 'light': 0.2056057447200487, '.': 0.0056057447200487075}, 'However, the pr': {'however': 0.0708305872150544, ',': 0.016158885702448944, 'presence': 0.088538234018818, 'ultraviolet': 0.060472277858837846, 'light': 0.12094455571767569, '(': 0.088538234018818, 'kind': 0.088538234018818, 'used': 0.0708305872150544, 'verify': 0.088538234018818, 'money': 0.088538234018818, ')': 0.088538234018818, 'cause': 0.060472277858837846, 'ink': 0.014698674895094112, 'glow': 0.088538234018818, 'neon': 0.088538234018818, 'yellow': 0.088538234018818, '.': 0.0016487484470731491}, 'At the entrance': {'entrance': 0.06271458242999609, 'polling': 0.050171665943996864, 'station': 0.050171665943996864, ',': 0.022891754745136002, 'one': 0.04283453015001014, 'election': 0.021047915763329417, 'official': 0.06271458242999609, 'scan': 0.06271458242999609, 'voter': 0.08566906030002028, \"'s\": 0.03762874945799764, 'finger': 0.050171665943996864, 'uv': 0.050171665943996864, 'lamp': 0.06271458242999609, 'allowing': 0.06271458242999609, 'enter': 0.050171665943996864, 'every': 0.06271458242999609, 'his/her': 0.06271458242999609, 'left': 0.050171665943996864, 'thumb': 0.04283453015001014, 'sprayed': 0.050171665943996864, 'ink': 0.010411561384024996, 'receiving': 0.06271458242999609, 'ballot': 0.050171665943996864, '.': 0.0011678634833434806}, 'If the ink show': {'ink': 0.02498774732165999, 'show': 0.15051499783199063, 'uv': 0.12041199826559248, 'light': 0.10280287236002435, 'voter': 0.10280287236002435, 'allowed': 0.15051499783199063, 'enter': 0.12041199826559248, 'polling': 0.12041199826559248, 'station': 0.12041199826559248, '.': 0.0028028723600243537}, 'Likewise, any v': {'likewise': 0.18814374728998826, ',': 0.034337632117704006, 'voter': 0.12850359045003043, 'refuse': 0.18814374728998826, 'inked': 0.18814374728998826, 'receive': 0.18814374728998826, 'ballot': 0.1505149978319906, '.': 0.0035035904500304417}, 'These elections': {'election': 0.07216428261712943, 'assuming': 0.05375535636856807, 'even': 0.043004285094854454, 'greater': 0.05375535636856807, 'significance': 0.05375535636856807, 'two': 0.05375535636856807, 'large': 0.05375535636856807, 'factor': 0.05375535636856807, '-': 0.03225321382114084, 'upcoming': 0.043004285094854454, 'parliamentary': 0.03671531155715155, 'prelude': 0.05375535636856807, 'potentially': 0.05375535636856807, 'regime': 0.05375535636856807, 'changing': 0.05375535636856807, 'presidential': 0.043004285094854454, 'autumn': 0.05375535636856807, 'well': 0.05375535636856807, 'echo': 0.05375535636856807, 'recent': 0.05375535636856807, 'former': 0.043004285094854454, 'soviet': 0.043004285094854454, 'republic': 0.03671531155715155, ',': 0.009810752033629716, 'notably': 0.05375535636856807, 'ukraine': 0.05375535636856807, 'georgia': 0.05375535636856807, '.': 0.0010010258428658405}, 'Widely circulat': {'widely': 0.06689555459199582, 'circulated': 0.08361944323999478, 'article': 0.06689555459199582, 'compared': 0.08361944323999478, 'use': 0.036669552128091615, 'ink': 0.01388208184536666, 'rural': 0.08361944323999478, 'practice': 0.08361944323999478, 'marking': 0.08361944323999478, 'sheep': 0.08361944323999478, '-': 0.05017166594399686, 'still': 0.08361944323999478, 'common': 0.06689555459199582, 'metaphor': 0.08361944323999478, 'primarily': 0.08361944323999478, 'agricultural': 0.08361944323999478, 'society': 0.06689555459199582, '.': 0.0015571513111246407}, 'The author of o': {'author': 0.16723888647998955, 'one': 0.11422541373336037, 'article': 0.13379110918399165, 'began': 0.16723888647998955, 'petition': 0.16723888647998955, 'drive': 0.13379110918399165, 'use': 0.07333910425618323, 'ink': 0.02776416369073332, '.': 0.0031143026222492814}, 'The greatest pa': {'greatest': 0.16723888647998955, 'part': 0.13379110918399165, 'opposition': 0.16723888647998955, 'ink': 0.02776416369073332, 'ha': 0.13379110918399165, 'often': 0.16723888647998955, 'sheer': 0.16723888647998955, 'ignorance': 0.16723888647998955, '.': 0.0031143026222492814}, 'Local newspaper': {'local': 0.09407187364499413, 'newspaper': 0.09407187364499413, 'carried': 0.09407187364499413, 'story': 0.09407187364499413, 'ink': 0.015617342076037493, 'harmful': 0.09407187364499413, ',': 0.017168816058852003, 'radioactive': 0.09407187364499413, 'even': 0.0752574989159953, 'ultraviolet': 0.06425179522501522, 'reader': 0.06425179522501522, 'may': 0.09407187364499413, 'cause': 0.06425179522501522, 'health': 0.09407187364499413, 'problem': 0.06425179522501522, '.': 0.0017517952250152209}, 'Others, such as': {'others': 0.10751071273713614, ',': 0.058864512201778296, 'aggressively': 0.10751071273713614, 'middle': 0.10751071273713614, 'road': 0.10751071273713614, 'coalition': 0.10751071273713614, 'non-governmental': 0.10751071273713614, 'organization': 0.10751071273713614, 'lauded': 0.10751071273713614, 'move': 0.10751071273713614, 'important': 0.10751071273713614, 'step': 0.08600857018970891, 'forward': 0.0734306231143031, '.': 0.002002051685731681}, 'This type of in': {'type': 0.0752574989159953, 'ink': 0.015617342076037493, 'ha': 0.0752574989159953, 'used': 0.0752574989159953, 'many': 0.0752574989159953, 'election': 0.03157187364499413, 'world': 0.09407187364499413, ',': 0.05150644817655601, 'country': 0.06425179522501522, 'varied': 0.09407187364499413, 'serbia': 0.0752574989159953, 'south': 0.09407187364499413, 'africa': 0.09407187364499413, 'indonesia': 0.09407187364499413, 'turkey': 0.09407187364499413, '.': 0.0017517952250152209}, 'The other commo': {'common': 0.0752574989159953, 'type': 0.1505149978319906, 'ink': 0.04685202622811248, 'election': 0.06314374728998826, 'indelible': 0.09407187364499413, 'visible': 0.0752574989159953, '-': 0.05644312418699647, 'afghanistan': 0.09407187364499413, 'showed': 0.09407187364499413, ',': 0.017168816058852003, 'improper': 0.09407187364499413, 'use': 0.04125324614410307, 'cause': 0.06425179522501522, 'additional': 0.09407187364499413, 'problem': 0.06425179522501522, '.': 0.0017517952250152209}, 'The use of \"inv': {'use': 0.08250649228820614, '``': 0.1505149978319906, 'invisible': 0.1505149978319906, \"''\": 0.12850359045003043, 'ink': 0.031234684152074987, 'without': 0.18814374728998826, 'problem': 0.12850359045003043, '.': 0.0035035904500304417}, 'In most electio': {'election': 0.08419166305331767, ',': 0.045783509490272004, 'numerous': 0.25085832971998434, 'rumor': 0.25085832971998434, 'spread': 0.25085832971998434, '.': 0.004671453933373922}, 'In Serbia, for ': {'serbia': 0.09262461405045576, ',': 0.04226170106794339, 'example': 0.11578076756306971, 'christian': 0.11578076756306971, 'islamic': 0.11578076756306971, 'leader': 0.11578076756306971, 'assured': 0.11578076756306971, 'population': 0.09262461405045576, 'use': 0.050773226023511475, 'wa': 0.11578076756306971, 'contrary': 0.11578076756306971, 'religion': 0.11578076756306971, '.': 0.002156055661557195}, 'Other rumours a': {'rumour': 0.10034333188799373, 'associated': 0.08027466551039499, 'remove': 0.10034333188799373, 'ink': 0.016658498214439994, '-': 0.060205999132796235, 'various': 0.10034333188799373, 'soft': 0.10034333188799373, 'drink': 0.10034333188799373, ',': 0.018313403796108803, 'solvent': 0.10034333188799373, 'cleaning': 0.10034333188799373, 'product': 0.10034333188799373, 'put': 0.10034333188799373, 'forward': 0.06853524824001622, '.': 0.0018685815733495688}, 'However, in rea': {'however': 0.10946545296872044, ',': 0.04994564671666037, 'reality': 0.13683181621090054, 'ink': 0.022716133928781808, 'effective': 0.13683181621090054, 'getting': 0.13683181621090054, 'cuticle': 0.13683181621090054, 'thumb': 0.09345715669093123, 'difficult': 0.13683181621090054, 'wash': 0.13683181621090054, '.': 0.002548065781840321}, 'The ink stays o': {'ink': 0.031234684152074987, 'stay': 0.18814374728998826, 'finger': 0.1505149978319906, 'least': 0.18814374728998826, '72': 0.18814374728998826, 'hour': 0.18814374728998826, 'week': 0.18814374728998826, '.': 0.0035035904500304417}, 'The passage of ': {'passage': 0.10751071273713614, 'inking': 0.10751071273713614, 'law': 0.08600857018970891, ',': 0.039243008134518864, 'nevertheless': 0.10751071273713614, 'clear': 0.10751071273713614, 'step': 0.08600857018970891, 'forward': 0.0734306231143031, 'towards': 0.10751071273713614, 'free': 0.10751071273713614, 'fair': 0.10751071273713614, 'election': 0.036082141308564714, '.': 0.002002051685731681, \"''\": 0.0734306231143031}, \"The country's w\": {'country': 0.10280287236002435, \"'s\": 0.09030899869919436, 'widely': 0.12041199826559248, 'watched': 0.15051499783199063, 'parliamentary': 0.10280287236002435, 'election': 0.05051499783199061, 'scheduled': 0.15051499783199063, '27': 0.15051499783199063, 'february': 0.15051499783199063, '.': 0.0028028723600243537}, 'David Mikosz wo': {'david': 0.11578076756306971, 'mikosz': 0.11578076756306971, 'work': 0.11578076756306971, 'ifes': 0.11578076756306971, ',': 0.04226170106794339, 'international': 0.11578076756306971, 'non-profit': 0.11578076756306971, 'organisation': 0.11578076756306971, 'support': 0.11578076756306971, 'building': 0.11578076756306971, 'democratic': 0.11578076756306971, 'society': 0.09262461405045576, '.': 0.002156055661557195}}\n"
     ]
    }
   ],
   "source": [
    "# 6 Calculate TF-IDF and generate a matrix\n",
    "tf_idf_matrix = _create_tf_idf_matrix(tf_matrix, idf_matrix)\n",
    "print(tf_idf_matrix)"
   ]
  },
  {
   "cell_type": "markdown",
   "id": "b9d384d9",
   "metadata": {},
   "source": [
    "#### Score of each sentence"
   ]
  },
  {
   "cell_type": "code",
   "execution_count": 14,
   "id": "faf9cee9",
   "metadata": {},
   "outputs": [],
   "source": [
    "def _score_sentences(tf_idf_matrix) -> dict:\n",
    "    \"\"\"\n",
    "    score a sentence by its word's TF\n",
    "    Basic algorithm: adding the TF frequency of every non-stop word in a sentence divided by total no of words in a sentence.\n",
    "    \"\"\"\n",
    "\n",
    "    sentenceValue = {}\n",
    "\n",
    "    for sent, f_table in tf_idf_matrix.items():\n",
    "        total_score_per_sentence = 0\n",
    "\n",
    "        count_words_in_sentence = len(f_table)\n",
    "        for word, score in f_table.items():\n",
    "            total_score_per_sentence += score\n",
    "\n",
    "        sentenceValue[sent] = total_score_per_sentence / count_words_in_sentence\n",
    "\n",
    "    return sentenceValue"
   ]
  },
  {
   "cell_type": "code",
   "execution_count": 31,
   "id": "ab71c43c",
   "metadata": {},
   "outputs": [
    {
     "name": "stdout",
     "output_type": "stream",
     "text": [
      "{'Ink helps drive': 0.04944558212998766, 'This new techno': 0.11964850012786234, 'In an effort to': 0.049380656249305724, 'The US governme': 0.16036013400274382, 'The Kyrgyz Repu': 0.056479122060062274, 'The use of ink ': 0.11186605701392763, 'The actual tech': 0.1665965587342357, 'The ink is spra': 0.12494724185797523, 'It dries and is': 0.21081909545984895, 'However, the pr': 0.07134710006349634, 'At the entrance': 0.04864899801774233, 'If the ink show': 0.10160743531280843, 'Likewise, any v': 0.13367935000121356, 'These elections': 0.04705437075603565, 'Widely circulat': 0.0670031723331395, 'The author of o': 0.10974909579005312, 'The greatest pa': 0.12607279078676817, 'Local newspaper': 0.06996110139599462, 'Others, such as': 0.09252949175449168, 'This type of in': 0.06908862442484746, 'The other commo': 0.07040660684200312, 'The use of \"inv': 0.10792821134304274, 'In most electio': 0.14787026927281943, 'In Serbia, for ': 0.0928220270275755, 'Other rumours a': 0.07659642556393663, 'However, in rea': 0.09992030485021251, 'The ink stays o': 0.14074650111050466, 'The passage of ': 0.08205575549262804, \"The country's w\": 0.1071704603204813, 'David Mikosz wo': 0.09960384972389645}\n"
     ]
    }
   ],
   "source": [
    "sentence_scores = _score_sentences(tf_idf_matrix)\n",
    "print(sentence_scores)"
   ]
  },
  {
   "cell_type": "markdown",
   "id": "0287d31a",
   "metadata": {},
   "source": [
    "#### Find the threshold"
   ]
  },
  {
   "cell_type": "code",
   "execution_count": 15,
   "id": "e5bacf29",
   "metadata": {},
   "outputs": [],
   "source": [
    "def _find_average_score(sentenceValue) -> int:\n",
    "    \"\"\"\n",
    "    Find the average score from the sentence value dictionary\n",
    "    :rtype: int\n",
    "    \"\"\"\n",
    "    sumValues = 0\n",
    "    for entry in sentenceValue:\n",
    "        sumValues += sentenceValue[entry]\n",
    "\n",
    "    # Average value of a sentence from original summary_text\n",
    "    average = (sumValues / len(sentenceValue))\n",
    "\n",
    "    return average"
   ]
  },
  {
   "cell_type": "code",
   "execution_count": 29,
   "id": "153e700c",
   "metadata": {},
   "outputs": [
    {
     "name": "stdout",
     "output_type": "stream",
     "text": [
      "0.10038016299398803\n"
     ]
    }
   ],
   "source": [
    "# 8 Find the threshold\n",
    "threshold = _find_average_score(sentence_scores)\n",
    "print(threshold)"
   ]
  },
  {
   "cell_type": "markdown",
   "id": "3cb5819b",
   "metadata": {},
   "source": [
    "####  Important Algorithm: Generate the summary"
   ]
  },
  {
   "cell_type": "code",
   "execution_count": 16,
   "id": "63255f7b",
   "metadata": {},
   "outputs": [],
   "source": [
    "def _generate_summary(sentences, sentenceValue, threshold):\n",
    "    sentence_count = 0\n",
    "    summary = ''\n",
    "\n",
    "    for sentence in sentences:\n",
    "        if sentence[:15] in sentenceValue and sentenceValue[sentence[:15]] >= (threshold):\n",
    "            summary += \" \" + sentence\n",
    "            sentence_count += 1\n",
    "\n",
    "    return summary"
   ]
  },
  {
   "cell_type": "code",
   "execution_count": 30,
   "id": "5a9cd018",
   "metadata": {},
   "outputs": [
    {
     "name": "stdout",
     "output_type": "stream",
     "text": [
      " This new technology is causing both worries and guarded optimism among different sectors of the population. The US government agreed to fund all expenses associated with this decision. The use of ink is only one part of a general effort to show commitment towards more open elections - the German Embassy, the Soros Foundation and the Kyrgyz government have all contributed to purchase transparent ballot boxes. The actual technology behind the ink is not that complicated. The ink is sprayed on a person's left thumb. It dries and is not visible under normal light. Likewise, any voter who refuses to be inked will not receive the ballot. The use of ink has been controversial - especially among groups perceived to be pro-government. The greatest part of the opposition to ink has often been sheer ignorance. In most elections, numerous rumors have spread about it. The ink stays on the finger for at least 72 hours and for up to a week. The use of ink and readers by itself is not a panacea for election ills.\n"
     ]
    }
   ],
   "source": [
    "summary = _generate_summary(sentences, sentence_scores, 1.1 * threshold)\n",
    "print(summary)"
   ]
  },
  {
   "cell_type": "code",
   "execution_count": null,
   "id": "f12585db",
   "metadata": {},
   "outputs": [],
   "source": []
  }
 ],
 "metadata": {
  "kernelspec": {
   "display_name": "Python 3",
   "language": "python",
   "name": "python3"
  },
  "language_info": {
   "codemirror_mode": {
    "name": "ipython",
    "version": 3
   },
   "file_extension": ".py",
   "mimetype": "text/x-python",
   "name": "python",
   "nbconvert_exporter": "python",
   "pygments_lexer": "ipython3",
   "version": "3.8.8"
  }
 },
 "nbformat": 4,
 "nbformat_minor": 5
}
