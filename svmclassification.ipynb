{
 "cells": [
  {
   "cell_type": "markdown",
   "id": "23d19e02",
   "metadata": {},
   "source": [
    "# News Classification"
   ]
  },
  {
   "cell_type": "markdown",
   "id": "97a51d4f",
   "metadata": {},
   "source": [
    "#### Importing libraries"
   ]
  },
  {
   "cell_type": "code",
   "execution_count": 14,
   "id": "37b166fd",
   "metadata": {},
   "outputs": [],
   "source": [
    "import pandas as pd\n",
    "import numpy as np\n",
    "import pickle\n",
    "from nltk.tokenize import word_tokenize\n",
    "from nltk import pos_tag\n",
    "from nltk.corpus import stopwords\n",
    "from nltk.stem import WordNetLemmatizer\n",
    "from sklearn.preprocessing import LabelEncoder\n",
    "from collections import defaultdict\n",
    "from nltk.corpus import wordnet as wn\n",
    "from sklearn.feature_extraction.text import TfidfVectorizer\n",
    "from sklearn import model_selection, naive_bayes, svm\n",
    "from sklearn.metrics import accuracy_score"
   ]
  },
  {
   "cell_type": "code",
   "execution_count": 15,
   "id": "dbccf500",
   "metadata": {},
   "outputs": [],
   "source": [
    "np.random.seed(500)"
   ]
  },
  {
   "cell_type": "markdown",
   "id": "901b3720",
   "metadata": {},
   "source": [
    "#### Getting text from dataset"
   ]
  },
  {
   "cell_type": "code",
   "execution_count": 16,
   "id": "2b38524b",
   "metadata": {},
   "outputs": [],
   "source": [
    "import os\n",
    "dir='C:\\\\Users\\\\vishnu\\\\Desktop\\\\nlp_project\\\\archive\\\\News_Articles'\n",
    "categories=['business','entertainment','politics','sport','tech']\n",
    "data=[]\n",
    "for category in categories:\n",
    "    path1=os.path.join(dir,category)\n",
    "    label=categories.index(category)\n",
    "    for fol in os.listdir(path1):\n",
    "        path2=os.path.join(path1,fol)\n",
    "        f=open(path2,'r')\n",
    "        text=f.read()\n",
    "        data.append((text,label))"
   ]
  },
  {
   "cell_type": "markdown",
   "id": "f1f846ce",
   "metadata": {},
   "source": [
    "#### Data preprocessing"
   ]
  },
  {
   "cell_type": "code",
   "execution_count": 17,
   "id": "8e4b68b9",
   "metadata": {},
   "outputs": [],
   "source": [
    "from nltk import sent_tokenize, word_tokenize, PorterStemmer\n",
    "from nltk.corpus import stopwords\n",
    "from nltk.stem.porter import PorterStemmer\n",
    "from nltk.stem import WordNetLemmatizer\n",
    " \n",
    "lemmatizer = WordNetLemmatizer()\n",
    "final=[]\n",
    "stopWords = set(stopwords.words(\"english\"))\n",
    "ps = PorterStemmer()\n",
    "s=[]\n",
    "for text,label in data:\n",
    "    sentences = sent_tokenize(text)\n",
    "    t=[]\n",
    "    for sent in sentences:\n",
    "        words = word_tokenize(sent)\n",
    "        for word in words:\n",
    "            word = word.lower()\n",
    "            word=lemmatizer.lemmatize(word)\n",
    "#             word = ps.stem(word)\n",
    "            if word in stopWords:\n",
    "                continue\n",
    "            else:\n",
    "                t.append(word)\n",
    "    final.append((label,str(t)))"
   ]
  },
  {
   "cell_type": "code",
   "execution_count": 31,
   "id": "b063aa75",
   "metadata": {},
   "outputs": [],
   "source": [
    "cat=[]\n",
    "con=[]\n",
    "for label,text in final:\n",
    "    cat.append(label)\n",
    "    con.append(text)\n",
    "\n",
    "#print(con[1])"
   ]
  },
  {
   "cell_type": "markdown",
   "id": "b30723d7",
   "metadata": {},
   "source": [
    "#### Splitting data"
   ]
  },
  {
   "cell_type": "code",
   "execution_count": 32,
   "id": "3708b19a",
   "metadata": {},
   "outputs": [],
   "source": [
    "Train_X, Test_X, Train_Y, Test_Y = model_selection.train_test_split(con,cat,test_size=0.3)\n",
    "# print(Train_X[0])"
   ]
  },
  {
   "cell_type": "markdown",
   "id": "21a7d821",
   "metadata": {},
   "source": [
    "#### Term Frequency — Inverse Document Frequency "
   ]
  },
  {
   "cell_type": "code",
   "execution_count": 33,
   "id": "b32b0535",
   "metadata": {},
   "outputs": [],
   "source": [
    "Tfidf_vect = TfidfVectorizer(max_features=5000)\n",
    "Tfidf_vect.fit(con)\n",
    "Train_X_Tfidf = Tfidf_vect.transform(Train_X)\n",
    "Test_X_Tfidf = Tfidf_vect.transform(Test_X)\n",
    "#print(Tfidf_vect.vocabulary_)"
   ]
  },
  {
   "cell_type": "code",
   "execution_count": 21,
   "id": "c2083dc8",
   "metadata": {},
   "outputs": [
    {
     "name": "stdout",
     "output_type": "stream",
     "text": [
      "  (0, 4979)\t0.037507480915259406\n",
      "  (0, 4962)\t0.021779883973408805\n",
      "  (0, 4952)\t0.05774831226007798\n",
      "  (0, 4949)\t0.11390200445671901\n",
      "  (0, 4934)\t0.0840061946016908\n",
      "  (0, 4887)\t0.03105393653657155\n",
      "  (0, 4844)\t0.03287780356363458\n",
      "  (0, 4831)\t0.04888449794306824\n",
      "  (0, 4820)\t0.07658866257943193\n",
      "  (0, 4745)\t0.03737106518438833\n",
      "  (0, 4714)\t0.08432688343999196\n",
      "  (0, 4712)\t0.048159017838886806\n",
      "  (0, 4709)\t0.07734115401338862\n",
      "  (0, 4568)\t0.03003562957641483\n",
      "  (0, 4547)\t0.04885207343364496\n",
      "  (0, 4461)\t0.23710299555899003\n",
      "  (0, 4435)\t0.05797736717085578\n",
      "  (0, 4395)\t0.04939691046747511\n",
      "  (0, 4367)\t0.06512419329720143\n",
      "  (0, 4030)\t0.06783423888882256\n",
      "  (0, 4023)\t0.11036727380497886\n",
      "  (0, 3974)\t0.04549418925109694\n",
      "  (0, 3936)\t0.057284311576097625\n",
      "  (0, 3921)\t0.06052073279622731\n",
      "  (0, 3902)\t0.06130466986930406\n",
      "  :\t:\n",
      "  (0, 1146)\t0.05034975534666767\n",
      "  (0, 1051)\t0.05337099050727779\n",
      "  (0, 1037)\t0.0467972866755881\n",
      "  (0, 967)\t0.0616466335797196\n",
      "  (0, 920)\t0.0616466335797196\n",
      "  (0, 914)\t0.041084234976743114\n",
      "  (0, 858)\t0.08017497526117731\n",
      "  (0, 841)\t0.16576474621941897\n",
      "  (0, 812)\t0.15418631717704948\n",
      "  (0, 757)\t0.059285607380685716\n",
      "  (0, 734)\t0.1015267938385131\n",
      "  (0, 728)\t0.10173330495237816\n",
      "  (0, 608)\t0.047261982542202166\n",
      "  (0, 605)\t0.0392035976330704\n",
      "  (0, 554)\t0.03344499966537544\n",
      "  (0, 485)\t0.10389271386352734\n",
      "  (0, 396)\t0.05554748335828789\n",
      "  (0, 350)\t0.07280132348655505\n",
      "  (0, 320)\t0.020594612889883485\n",
      "  (0, 281)\t0.04304805185249978\n",
      "  (0, 269)\t0.052521339842508785\n",
      "  (0, 230)\t0.030916561209834135\n",
      "  (0, 211)\t0.07030994952940546\n",
      "  (0, 53)\t0.05909056653896698\n",
      "  (0, 5)\t0.06452568041411326\n"
     ]
    }
   ],
   "source": [
    "print(Test_X_Tfidf[0])"
   ]
  },
  {
   "cell_type": "code",
   "execution_count": 29,
   "id": "560f94c0",
   "metadata": {},
   "outputs": [
    {
     "name": "stdout",
     "output_type": "stream",
     "text": [
      "Accuracy:  0.9805389221556886\n",
      "              precision    recall  f1-score   support\n",
      "\n",
      "           0       0.97      0.97      0.97       158\n",
      "           1       0.99      0.98      0.99       124\n",
      "           2       0.96      0.96      0.96       117\n",
      "           3       1.00      1.00      1.00       142\n",
      "           4       0.98      0.99      0.98       127\n",
      "\n",
      "    accuracy                           0.98       668\n",
      "   macro avg       0.98      0.98      0.98       668\n",
      "weighted avg       0.98      0.98      0.98       668\n",
      "\n"
     ]
    }
   ],
   "source": [
    "# Classifier - Algorithm - SVM\n",
    "# fit the training dataset on the classifier\n",
    "SVM = svm.SVC(C=1.0, kernel='linear', degree=3, gamma='auto')\n",
    "SVM.fit(Train_X_Tfidf,Train_Y)\n",
    "# predict the labels on validation dataset\n",
    "predictions_SVM = SVM.predict(Test_X_Tfidf)\n",
    "from sklearn.metrics import classification_report, confusion_matrix\n",
    "prediction=SVM.predict(Test_X_Tfidf)\n",
    "accuracy=SVM.score(Test_X_Tfidf,Test_Y)\n",
    "\n",
    "print('Accuracy: ',accuracy)\n",
    "print(classification_report(Test_Y, prediction))"
   ]
  },
  {
   "cell_type": "code",
   "execution_count": 10,
   "id": "5adb6afb",
   "metadata": {},
   "outputs": [],
   "source": [
    "pick=open('svm.sav','wb')\n",
    "pickle.dump(SVM,pick)\n",
    "pick.close()"
   ]
  }
 ],
 "metadata": {
  "kernelspec": {
   "display_name": "Python 3",
   "language": "python",
   "name": "python3"
  },
  "language_info": {
   "codemirror_mode": {
    "name": "ipython",
    "version": 3
   },
   "file_extension": ".py",
   "mimetype": "text/x-python",
   "name": "python",
   "nbconvert_exporter": "python",
   "pygments_lexer": "ipython3",
   "version": "3.8.8"
  }
 },
 "nbformat": 4,
 "nbformat_minor": 5
}
